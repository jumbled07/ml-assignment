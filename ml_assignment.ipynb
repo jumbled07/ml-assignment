{
 "cells": [
  {
   "cell_type": "code",
   "execution_count": 1,
   "metadata": {},
   "outputs": [],
   "source": [
    "import numpy as np"
   ]
  },
  {
   "cell_type": "code",
   "execution_count": 18,
   "metadata": {},
   "outputs": [
    {
     "name": "stdout",
     "output_type": "stream",
     "text": [
      "[[0.99836918]\n",
      " [0.9985866 ]\n",
      " [0.99871813]]\n"
     ]
    }
   ],
   "source": [
    "def sigmoid(z):\n",
    "    return 1/(1 + np.exp(-z))\n",
    "\n",
    "def derivative_sigmoid(z):\n",
    "    return z*(1-z)\n",
    "\n",
    "X = np.array([[1,0,1,0],[0,1,0,1],[1,0,1,1]])\n",
    "Y = np.array([[1],[0],[1]])\n",
    "\n",
    "inputlayer_neurons = 4\n",
    "hiddenlayer_neurons = 3\n",
    "outputlayer_neurons = 1\n",
    "\n",
    "epoch = 1000\n",
    "learningrate= 0.2\n",
    "\n",
    "w1=np.random.uniform(size=(inputlayer_neurons,hiddenlayer_neurons))\n",
    "b1=np.random.uniform(size=(1,hiddenlayer_neurons))\n",
    "w2=np.random.uniform(size=(hiddenlayer_neurons,outputlayer_neurons))\n",
    "b2=np.random.uniform(size=(1,outputlayer_neurons))\n",
    "\n",
    "for i in range(epoch):\n",
    "    hidden_layer_input1=np.dot(X,w1)\n",
    "    hidden_layer_input=hidden_layer_input1 + b1\n",
    "    hiddenlayer_activation = sigmoid(hidden_layer_input)\n",
    "    output_layer_input1=np.dot(hiddenlayer_activation,w2)\n",
    "    output_layer_input= output_layer_input1+ b2\n",
    "    output = sigmoid(output_layer_input)\n",
    "    \n",
    "    delta = Y-output\n",
    "    slope_output_layer = derivative_sigmoid(output)\n",
    "    slope_hidden_layer = derivative_sigmoid(hiddenlayer_activation)\n",
    "    d_output = delta * slope_output_layer\n",
    "    Error_at_hidden_layer = d_output.dot(w2.T)\n",
    "    d_hiddenlayer = Error_at_hidden_layer * slope_hidden_layer\n",
    "    \n",
    "    w2 -= hiddenlayer_activation.T.dot(d_output) *learningrate\n",
    "    b2 -= np.sum(d_output, axis=0,keepdims=True) *learningrate\n",
    "    w1 -= X.T.dot(d_hiddenlayer) *learningrate\n",
    "    b1 -= np.sum(d_hiddenlayer, axis=0,keepdims=True) *learningrate\n",
    "\n",
    "print (output)\n",
    "\n",
    "    "
   ]
  },
  {
   "cell_type": "code",
   "execution_count": null,
   "metadata": {},
   "outputs": [],
   "source": []
  },
  {
   "cell_type": "code",
   "execution_count": null,
   "metadata": {},
   "outputs": [],
   "source": []
  }
 ],
 "metadata": {
  "kernelspec": {
   "display_name": "Python 3",
   "language": "python",
   "name": "python3"
  },
  "language_info": {
   "codemirror_mode": {
    "name": "ipython",
    "version": 3
   },
   "file_extension": ".py",
   "mimetype": "text/x-python",
   "name": "python",
   "nbconvert_exporter": "python",
   "pygments_lexer": "ipython3",
   "version": "3.7.3"
  }
 },
 "nbformat": 4,
 "nbformat_minor": 2
}
